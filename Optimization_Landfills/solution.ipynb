{
 "cells": [
  {
   "cell_type": "code",
   "execution_count": 1,
   "metadata": {},
   "outputs": [],
   "source": [
    "cd(\"D:/Academics/Harvard/2020 Fall/Analytics Edge/Assignments/HW5\")"
   ]
  },
  {
   "cell_type": "code",
   "execution_count": 2,
   "metadata": {},
   "outputs": [],
   "source": [
    "### Importation of relevant packages\n",
    "using JuMP\n",
    "using Gurobi\n",
    "using CSV\n",
    "using DataFrames"
   ]
  },
  {
   "cell_type": "code",
   "execution_count": 3,
   "metadata": {},
   "outputs": [],
   "source": [
    "### Data importation for the whole problem\n",
    "centers = convert(Matrix,CSV.File(\"centers.csv\"; header=false) |> DataFrame!);\n",
    "stations = convert(Matrix,CSV.File(\"stations.csv\"; header=false) |> DataFrame!);\n",
    "landfills = convert(Matrix,CSV.File(\"landfills.csv\"; header=false) |> DataFrame!);\n",
    "q = convert(Matrix,CSV.File(\"q.csv\"; header=false) |> DataFrame!);"
   ]
  },
  {
   "cell_type": "code",
   "execution_count": 4,
   "metadata": {},
   "outputs": [],
   "source": [
    "### Definition of number of centers, transfer stations, landfills\n",
    "n1 = size(centers)[1];\n",
    "s1 = size(stations)[1];\n",
    "m1 = size(landfills)[1];"
   ]
  },
  {
   "cell_type": "code",
   "execution_count": 5,
   "metadata": {},
   "outputs": [],
   "source": [
    "### Definition of distance matrices\n",
    "# The data give us coordinates of centers, landfills and transfer stations.\n",
    "# We need to use them to compute the distances between each pair of locations\n",
    "# This is done below in Julia\n",
    "# Alternatively, you could have computed distances in Excel, saved your file as \n",
    "# a new .csv file, and imported this new data file in Julia.\n",
    "d1 = sqrt.(\n",
    "    (centers[:,1] * ones(1,m1) - ones(n1,1) * transpose(landfills[:,1])) .^2 +\n",
    "    (centers[:,2] * ones(1,m1) - ones(n1,1) * transpose(landfills[:,2])) .^2);\n",
    "\n",
    "d2 = sqrt.(\n",
    "    (centers[:,1] * ones(1,s1) - ones(n1,1) * transpose(stations[:,1])) .^2 +\n",
    "    (centers[:,2] * ones(1,s1) - ones(n1,1) * transpose(stations[:,2])) .^2);\n",
    "\n",
    "d3 = sqrt.(\n",
    "    (stations[:,1] * ones(1,m1) - ones(s1,1) * transpose(landfills[:,1])) .^2 +\n",
    "    (stations[:,2] * ones(1,m1) - ones(s1,1) * transpose(landfills[:,2])) .^2);"
   ]
  },
  {
   "cell_type": "code",
   "execution_count": 6,
   "metadata": {},
   "outputs": [],
   "source": [
    "# Part A\n",
    "# a) The objective is to minimize the total transportation cost\n",
    "# Transportation cost is assumed to be a linear function of distance travelled and \n",
    "# the weight of waste. It is also assumed that the unit transport cost is constant.\n",
    "# Thus (1) the objective function minimizes the sum of the product of the distance \n",
    "# between each pairs of locations times their respective amount of waste.\n",
    "\n",
    "# Constraints: \n",
    "# (2) All the waste generated in each center is disposed\n",
    "# (3) If landfill j is not built, the amount of waste shipped from each centers to\n",
    "# landfill j must equals 0. If landfill j is built, the amount of waste shipped from \n",
    "# each center to landfill j must be no more than the amount collected at the center.\n",
    "# Thus M equals to q-i\n",
    "# (4) Total number of landfills built must be no more than 5\n",
    "# (5) The amount of waste shipped between each pair of locations must not be negative\n",
    "# (6) z-j must be either 1 or 0, indicating a landfilll is built or unbuilt."
   ]
  },
  {
   "cell_type": "code",
   "execution_count": 7,
   "metadata": {
    "scrolled": true
   },
   "outputs": [
    {
     "name": "stdout",
     "output_type": "stream",
     "text": [
      "Academic license - for non-commercial use only - expires 2021-01-19\r\n",
      "Gurobi Optimizer version 9.1.0 build v9.1.0rc0 (win64)\r\n",
      "Thread count: 6 physical cores, 12 logical processors, using up to 12 threads\r\n",
      "Optimize a model with 801 rows, 765 columns and 2265 nonzeros\r\n",
      "Model fingerprint: 0x57d04f5a\r\n",
      "Variable types: 750 continuous, 15 integer (15 binary)\r\n",
      "Coefficient statistics:\r\n",
      "  Matrix range     [1e+00, 2e+03]\r\n",
      "  Objective range  [2e+00, 1e+02]\r\n",
      "  Bounds range     [0e+00, 0e+00]\r\n",
      "  RHS range        [5e+00, 2e+03]\r\n",
      "Presolve time: 0.02s\r\n",
      "Presolved: 801 rows, 765 columns, 2265 nonzeros\r\n",
      "Variable types: 750 continuous, 15 integer (15 binary)\r\n",
      "\r\n",
      "Root relaxation: objective 8.404875e+05, 136 iterations, 0.01 seconds\r\n",
      "\r\n",
      "    Nodes    |    Current Node    |     Objective Bounds      |     Work\r\n",
      " Expl Unexpl |  Obj  Depth IntInf | Incumbent    BestBd   Gap | It/Node Time\r\n",
      "\r\n",
      "*    0     0               0    840487.52400 840487.524  0.00%     -    0s\r\n",
      "\r\n",
      "Explored 0 nodes (136 simplex iterations) in 0.07 seconds\r\n",
      "Thread count was 12 (of 12 available processors)\r\n",
      "\r\n",
      "Solution count 1: 840488 \r\n",
      "\r\n",
      "Optimal solution found (tolerance 1.00e-04)\r\n",
      "Best objective 8.404875240013e+05, best bound 8.404875240013e+05, gap 0.0000%\r\n",
      "\r\n",
      "User-callback calls 64, time in user-callback 0.00 sec\r\n"
     ]
    }
   ],
   "source": [
    "# b) Resize q\n",
    "q = q[:,:1];\n",
    "\n",
    "# Implement the linear optimization model\n",
    "mod = Model(Gurobi.Optimizer);\n",
    "set_optimizer_attribute(mod, \"MIPGap\", 0.0001);\n",
    "@variable(mod, x[1:n1, 1:m1] >= 0);\n",
    "@variable(mod, z[1:m1], Bin);\n",
    "@objective(mod, Min,\n",
    "    sum(d1[i, j] * x[i, j] for i in 1:n1, j in 1:m1)\n",
    "    );\n",
    "@constraint(mod, [i in 1:n1], sum(x[i,j] for j in 1:m1) == q[i]);\n",
    "@constraint(mod, [i in 1:n1, j in 1:m1], x[i,j] <= q[i]*z[j]);\n",
    "@constraint(mod, sum(z[j] for j in 1:m1) <= 5);\n",
    "optimize!(mod)"
   ]
  },
  {
   "cell_type": "code",
   "execution_count": 8,
   "metadata": {},
   "outputs": [
    {
     "data": {
      "text/plain": [
       "840487.5240012796"
      ]
     },
     "execution_count": 8,
     "metadata": {},
     "output_type": "execute_result"
    }
   ],
   "source": [
    "# Total distance travelled byt the waste\n",
    "obj_opt = objective_value(mod)"
   ]
  },
  {
   "cell_type": "code",
   "execution_count": 9,
   "metadata": {},
   "outputs": [
    {
     "data": {
      "text/plain": [
       "5-element Array{Int64,1}:\n",
       "  3\n",
       "  4\n",
       "  7\n",
       " 13\n",
       " 14"
      ]
     },
     "execution_count": 9,
     "metadata": {},
     "output_type": "execute_result"
    }
   ],
   "source": [
    "# Landfills index\n",
    "z_opt = value.(z)\n",
    "index = findall(x->x==1, z_opt)"
   ]
  },
  {
   "cell_type": "code",
   "execution_count": null,
   "metadata": {},
   "outputs": [],
   "source": [
    "# Optimization result: Landfills built at index 3,4,7,13,14\n",
    "# Total distance travelled by the waste is 840487.52 miles"
   ]
  },
  {
   "cell_type": "code",
   "execution_count": 29,
   "metadata": {
    "scrolled": false
   },
   "outputs": [
    {
     "name": "stdout",
     "output_type": "stream",
     "text": [
      "Academic license - for non-commercial use only - expires 2021-01-19\r\n",
      "Gurobi Optimizer version 9.1.0 build v9.1.0rc0 (win64)\r\n",
      "Thread count: 6 physical cores, 12 logical processors, using up to 12 threads\r\n",
      "Optimize a model with 801 rows, 765 columns and 2265 nonzeros\r\n",
      "Model fingerprint: 0x57d04f5a\r\n",
      "Variable types: 750 continuous, 15 integer (15 binary)\r\n",
      "Coefficient statistics:\r\n",
      "  Matrix range     [1e+00, 2e+03]\r\n",
      "  Objective range  [2e+00, 1e+02]\r\n",
      "  Bounds range     [0e+00, 0e+00]\r\n",
      "  RHS range        [5e+00, 2e+03]\r\n",
      "Presolve time: 0.00s\r\n",
      "Presolved: 801 rows, 765 columns, 2265 nonzeros\r\n",
      "Variable types: 750 continuous, 15 integer (15 binary)\r\n",
      "\r\n",
      "Root relaxation: objective 8.404875e+05, 136 iterations, 0.00 seconds\r\n",
      "\r\n",
      "    Nodes    |    Current Node    |     Objective Bounds      |     Work\r\n",
      " Expl Unexpl |  Obj  Depth IntInf | Incumbent    BestBd   Gap | It/Node Time\r\n",
      "\r\n",
      "*    0     0               0    840487.52400 840487.524  0.00%     -    0s\r\n",
      "\r\n",
      "Explored 0 nodes (136 simplex iterations) in 0.02 seconds\r\n",
      "Thread count was 12 (of 12 available processors)\r\n",
      "\r\n",
      "Solution count 1: 840488 \r\n",
      "\r\n",
      "Optimal solution found (tolerance 1.00e-04)\r\n",
      "Best objective 8.404875240013e+05, best bound 8.404875240013e+05, gap 0.0000%\r\n",
      "\r\n",
      "User-callback calls 46, time in user-callback 0.00 sec\r\n",
      "Academic license - for non-commercial use only - expires 2021-01-19\r\n",
      "Gurobi Optimizer version 9.1.0 build v9.1.0rc0 (win64)\r\n",
      "Thread count: 6 physical cores, 12 logical processors, using up to 12 threads\r\n",
      "Optimize a model with 801 rows, 765 columns and 2265 nonzeros\r\n",
      "Model fingerprint: 0x04b4e390\r\n",
      "Variable types: 750 continuous, 15 integer (15 binary)\r\n",
      "Coefficient statistics:\r\n",
      "  Matrix range     [1e+00, 2e+03]\r\n",
      "  Objective range  [2e+00, 1e+02]\r\n",
      "  Bounds range     [0e+00, 0e+00]\r\n",
      "  RHS range        [6e+00, 2e+03]\r\n",
      "Presolve time: 0.00s\r\n",
      "Presolved: 801 rows, 765 columns, 2265 nonzeros\r\n",
      "Variable types: 750 continuous, 15 integer (15 binary)\r\n",
      "\r\n",
      "Root relaxation: objective 7.849731e+05, 104 iterations, 0.00 seconds\r\n",
      "\r\n",
      "    Nodes    |    Current Node    |     Objective Bounds      |     Work\r\n",
      " Expl Unexpl |  Obj  Depth IntInf | Incumbent    BestBd   Gap | It/Node Time\r\n",
      "\r\n",
      "*    0     0               0    784973.10171 784973.102  0.00%     -    0s\r\n",
      "\r\n",
      "Explored 0 nodes (104 simplex iterations) in 0.01 seconds\r\n",
      "Thread count was 12 (of 12 available processors)\r\n",
      "\r\n",
      "Solution count 1: 784973 \r\n",
      "\r\n",
      "Optimal solution found (tolerance 1.00e-04)\r\n",
      "Best objective 7.849731017064e+05, best bound 7.849731017064e+05, gap 0.0000%\r\n",
      "\r\n",
      "User-callback calls 42, time in user-callback 0.00 sec\r\n",
      "Academic license - for non-commercial use only - expires 2021-01-19\r\n",
      "Gurobi Optimizer version 9.1.0 build v9.1.0rc0 (win64)\r\n",
      "Thread count: 6 physical cores, 12 logical processors, using up to 12 threads\r\n",
      "Optimize a model with 801 rows, 765 columns and 2265 nonzeros\r\n",
      "Model fingerprint: 0xe7140215\r\n",
      "Variable types: 750 continuous, 15 integer (15 binary)\r\n",
      "Coefficient statistics:\r\n",
      "  Matrix range     [1e+00, 2e+03]\r\n",
      "  Objective range  [2e+00, 1e+02]\r\n",
      "  Bounds range     [0e+00, 0e+00]\r\n",
      "  RHS range        [7e+00, 2e+03]\r\n",
      "Presolve time: 0.00s\r\n",
      "Presolved: 801 rows, 765 columns, 2265 nonzeros\r\n",
      "Variable types: 750 continuous, 15 integer (15 binary)\r\n",
      "\r\n",
      "Root relaxation: objective 7.517317e+05, 93 iterations, 0.00 seconds\r\n",
      "\r\n",
      "    Nodes    |    Current Node    |     Objective Bounds      |     Work\r\n",
      " Expl Unexpl |  Obj  Depth IntInf | Incumbent    BestBd   Gap | It/Node Time\r\n",
      "\r\n",
      "*    0     0               0    751731.74144 751731.741  0.00%     -    0s\r\n",
      "\r\n",
      "Explored 0 nodes (93 simplex iterations) in 0.01 seconds\r\n",
      "Thread count was 12 (of 12 available processors)\r\n",
      "\r\n",
      "Solution count 1: 751732 \r\n",
      "\r\n",
      "Optimal solution found (tolerance 1.00e-04)\r\n",
      "Best objective 7.517317414444e+05, best bound 7.517317414444e+05, gap 0.0000%\r\n",
      "\r\n",
      "User-callback calls 41, time in user-callback 0.00 sec\r\n",
      "Academic license - for non-commercial use only - expires 2021-01-19\r\n",
      "Gurobi Optimizer version 9.1.0 build v9.1.0rc0 (win64)\r\n",
      "Thread count: 6 physical cores, 12 logical processors, using up to 12 threads\r\n",
      "Optimize a model with 801 rows, 765 columns and 2265 nonzeros\r\n",
      "Model fingerprint: 0x355b4c95\r\n",
      "Variable types: 750 continuous, 15 integer (15 binary)\r\n",
      "Coefficient statistics:\r\n",
      "  Matrix range     [1e+00, 2e+03]\r\n",
      "  Objective range  [2e+00, 1e+02]\r\n",
      "  Bounds range     [0e+00, 0e+00]\r\n",
      "  RHS range        [8e+00, 2e+03]\r\n",
      "Presolve time: 0.00s\r\n",
      "Presolved: 801 rows, 765 columns, 2265 nonzeros\r\n",
      "Variable types: 750 continuous, 15 integer (15 binary)\r\n",
      "\r\n",
      "Root relaxation: objective 7.238110e+05, 58 iterations, 0.00 seconds\r\n",
      "\r\n",
      "    Nodes    |    Current Node    |     Objective Bounds      |     Work\r\n",
      " Expl Unexpl |  Obj  Depth IntInf | Incumbent    BestBd   Gap | It/Node Time\r\n",
      "\r\n",
      "*    0     0               0    723810.95776 723810.958  0.00%     -    0s\r\n",
      "\r\n",
      "Explored 0 nodes (58 simplex iterations) in 0.01 seconds\r\n",
      "Thread count was 12 (of 12 available processors)\r\n",
      "\r\n",
      "Solution count 1: 723811 \r\n",
      "\r\n",
      "Optimal solution found (tolerance 1.00e-04)\r\n",
      "Best objective 7.238109577611e+05, best bound 7.238109577611e+05, gap 0.0000%\r\n",
      "\r\n",
      "User-callback calls 41, time in user-callback 0.00 sec\r\n",
      "Academic license - for non-commercial use only - expires 2021-01-19\r\n",
      "Gurobi Optimizer version 9.1.0 build v9.1.0rc0 (win64)\r\n",
      "Thread count: 6 physical cores, 12 logical processors, using up to 12 threads\r\n",
      "Optimize a model with 801 rows, 765 columns and 2265 nonzeros\r\n",
      "Model fingerprint: 0xf73362bd\r\n",
      "Variable types: 750 continuous, 15 integer (15 binary)\r\n",
      "Coefficient statistics:\r\n",
      "  Matrix range     [1e+00, 2e+03]\r\n",
      "  Objective range  [2e+00, 1e+02]\r\n",
      "  Bounds range     [0e+00, 0e+00]\r\n",
      "  RHS range        [9e+00, 2e+03]\r\n",
      "Presolve time: 0.00s\r\n",
      "Presolved: 801 rows, 765 columns, 2265 nonzeros\r\n",
      "Variable types: 750 continuous, 15 integer (15 binary)\r\n",
      "\r\n",
      "Root relaxation: objective 7.072151e+05, 38 iterations, 0.00 seconds\r\n",
      "\r\n",
      "    Nodes    |    Current Node    |     Objective Bounds      |     Work\r\n",
      " Expl Unexpl |  Obj  Depth IntInf | Incumbent    BestBd   Gap | It/Node Time\r\n",
      "\r\n",
      "*    0     0               0    707215.13960 707215.140  0.00%     -    0s\r\n",
      "\r\n",
      "Explored 0 nodes (38 simplex iterations) in 0.01 seconds\r\n",
      "Thread count was 12 (of 12 available processors)\r\n",
      "\r\n",
      "Solution count 1: 707215 \r\n",
      "\r\n",
      "Optimal solution found (tolerance 1.00e-04)\r\n",
      "Best objective 7.072151395993e+05, best bound 7.072151395993e+05, gap 0.0000%\r\n",
      "\r\n",
      "User-callback calls 40, time in user-callback 0.00 sec\r\n",
      "Academic license - for non-commercial use only - expires 2021-01-19\r\n",
      "Gurobi Optimizer version 9.1.0 build v9.1.0rc0 (win64)\r\n",
      "Thread count: 6 physical cores, 12 logical processors, using up to 12 threads\r\n",
      "Optimize a model with 801 rows, 765 columns and 2265 nonzeros\r\n",
      "Model fingerprint: 0x85a8aedb\r\n",
      "Variable types: 750 continuous, 15 integer (15 binary)\r\n",
      "Coefficient statistics:\r\n",
      "  Matrix range     [1e+00, 2e+03]\r\n",
      "  Objective range  [2e+00, 1e+02]\r\n",
      "  Bounds range     [0e+00, 0e+00]\r\n",
      "  RHS range        [1e+01, 2e+03]\r\n",
      "Presolve time: 0.00s\r\n",
      "Presolved: 801 rows, 765 columns, 2265 nonzeros\r\n",
      "Variable types: 750 continuous, 15 integer (15 binary)\r\n",
      "\r\n",
      "Root relaxation: objective 6.991211e+05, 29 iterations, 0.00 seconds\r\n",
      "\r\n",
      "    Nodes    |    Current Node    |     Objective Bounds      |     Work\r\n",
      " Expl Unexpl |  Obj  Depth IntInf | Incumbent    BestBd   Gap | It/Node Time\r\n",
      "\r\n",
      "*    0     0               0    699121.12771 699121.128  0.00%     -    0s\r\n",
      "\r\n",
      "Explored 0 nodes (29 simplex iterations) in 0.01 seconds\r\n",
      "Thread count was 12 (of 12 available processors)\r\n",
      "\r\n",
      "Solution count 1: 699121 \r\n",
      "\r\n",
      "Optimal solution found (tolerance 1.00e-04)\r\n",
      "Best objective 6.991211277070e+05, best bound 6.991211277070e+05, gap 0.0000%\r\n",
      "\r\n",
      "User-callback calls 40, time in user-callback 0.00 sec\r\n"
     ]
    }
   ],
   "source": [
    "# c) Vary the number of landfills from 5 to 10\n",
    "# Define a base model\n",
    "function base_model()\n",
    "    model = Model(Gurobi.Optimizer);\n",
    "    set_optimizer_attribute(model, \"MIPGap\", 0.0001);\n",
    "    @variable(model, x[1:n1, 1:m1] >= 0);\n",
    "    @variable(model, z[1:m1], Bin);\n",
    "    @objective(model, Min,\n",
    "        sum(d1[i, j] * x[i, j] for i in 1:n1, j in 1:m1)\n",
    "        );\n",
    "    @constraint(model, [i in 1:n1], sum(x[i,j] for j in 1:m1) == q[i]);\n",
    "    @constraint(model, [i in 1:n1, j in 1:m1], x[i,j] <= q[i]*z[j]);\n",
    "    return model\n",
    "end\n",
    "\n",
    "# Initialize an array and a dict for storing model results\n",
    "landfill_set = Dict()\n",
    "total_distance = []\n",
    "\n",
    "# Iterate landfill number constraint from 5 to 10\n",
    "for c = 5:10  \n",
    "    m = base_model()\n",
    "    @constraint(m, sum(m[:z][j] for j in 1:m1) <= c);\n",
    "    optimize!(m)\n",
    "    \n",
    "    opt_d = objective_value(m)\n",
    "    push!(total_distance, opt_d)\n",
    "    \n",
    "    z = value.(m[:z])\n",
    "    location = findall(x->x==1, z)\n",
    "    push!(landfill_set, c => location)\n",
    "end"
   ]
  },
  {
   "cell_type": "code",
   "execution_count": 11,
   "metadata": {},
   "outputs": [
    {
     "data": {
      "text/plain": [
       "6-element Array{Any,1}:\n",
       " 840487.5240012796\n",
       " 784973.1017063984\n",
       " 751731.74144438\n",
       " 723810.9577610842\n",
       " 707215.1395992909\n",
       " 699121.1277070486"
      ]
     },
     "execution_count": 11,
     "metadata": {},
     "output_type": "execute_result"
    }
   ],
   "source": [
    "# i) Reporting the total distance traveled by the waste\n",
    "total_distance"
   ]
  },
  {
   "cell_type": "code",
   "execution_count": 12,
   "metadata": {},
   "outputs": [],
   "source": [
    "using Plots"
   ]
  },
  {
   "cell_type": "code",
   "execution_count": 13,
   "metadata": {},
   "outputs": [
    {
     "data": {
      "image/svg+xml": [
       "<?xml version=\"1.0\" encoding=\"utf-8\"?>\n",
       "<svg xmlns=\"http://www.w3.org/2000/svg\" xmlns:xlink=\"http://www.w3.org/1999/xlink\" width=\"600\" height=\"400\" viewBox=\"0 0 2400 1600\">\n",
       "<defs>\n",
       "  <clipPath id=\"clip890\">\n",
       "    <rect x=\"0\" y=\"0\" width=\"2400\" height=\"1600\"/>\n",
       "  </clipPath>\n",
       "</defs>\n",
       "<path clip-path=\"url(#clip890)\" d=\"\n",
       "M0 1600 L2400 1600 L2400 0 L0 0  Z\n",
       "  \" fill=\"#ffffff\" fill-rule=\"evenodd\" fill-opacity=\"1\"/>\n",
       "<defs>\n",
       "  <clipPath id=\"clip891\">\n",
       "    <rect x=\"480\" y=\"0\" width=\"1681\" height=\"1600\"/>\n",
       "  </clipPath>\n",
       "</defs>\n",
       "<path clip-path=\"url(#clip890)\" d=\"\n",
       "M278.886 1486.45 L2352.76 1486.45 L2352.76 47.2441 L278.886 47.2441  Z\n",
       "  \" fill=\"#ffffff\" fill-rule=\"evenodd\" fill-opacity=\"1\"/>\n",
       "<defs>\n",
       "  <clipPath id=\"clip892\">\n",
       "    <rect x=\"278\" y=\"47\" width=\"2075\" height=\"1440\"/>\n",
       "  </clipPath>\n",
       "</defs>\n",
       "<polyline clip-path=\"url(#clip892)\" style=\"stroke:#000000; stroke-width:2; stroke-opacity:0.1; fill:none\" points=\"\n",
       "  337.581,1486.45 337.581,47.2441 \n",
       "  \"/>\n",
       "<polyline clip-path=\"url(#clip892)\" style=\"stroke:#000000; stroke-width:2; stroke-opacity:0.1; fill:none\" points=\"\n",
       "  728.877,1486.45 728.877,47.2441 \n",
       "  \"/>\n",
       "<polyline clip-path=\"url(#clip892)\" style=\"stroke:#000000; stroke-width:2; stroke-opacity:0.1; fill:none\" points=\"\n",
       "  1120.17,1486.45 1120.17,47.2441 \n",
       "  \"/>\n",
       "<polyline clip-path=\"url(#clip892)\" style=\"stroke:#000000; stroke-width:2; stroke-opacity:0.1; fill:none\" points=\"\n",
       "  1511.47,1486.45 1511.47,47.2441 \n",
       "  \"/>\n",
       "<polyline clip-path=\"url(#clip892)\" style=\"stroke:#000000; stroke-width:2; stroke-opacity:0.1; fill:none\" points=\"\n",
       "  1902.77,1486.45 1902.77,47.2441 \n",
       "  \"/>\n",
       "<polyline clip-path=\"url(#clip892)\" style=\"stroke:#000000; stroke-width:2; stroke-opacity:0.1; fill:none\" points=\"\n",
       "  2294.06,1486.45 2294.06,47.2441 \n",
       "  \"/>\n",
       "<polyline clip-path=\"url(#clip890)\" style=\"stroke:#000000; stroke-width:4; stroke-opacity:1; fill:none\" points=\"\n",
       "  278.886,1486.45 2352.76,1486.45 \n",
       "  \"/>\n",
       "<polyline clip-path=\"url(#clip890)\" style=\"stroke:#000000; stroke-width:4; stroke-opacity:1; fill:none\" points=\"\n",
       "  337.581,1486.45 337.581,1469.18 \n",
       "  \"/>\n",
       "<polyline clip-path=\"url(#clip890)\" style=\"stroke:#000000; stroke-width:4; stroke-opacity:1; fill:none\" points=\"\n",
       "  728.877,1486.45 728.877,1469.18 \n",
       "  \"/>\n",
       "<polyline clip-path=\"url(#clip890)\" style=\"stroke:#000000; stroke-width:4; stroke-opacity:1; fill:none\" points=\"\n",
       "  1120.17,1486.45 1120.17,1469.18 \n",
       "  \"/>\n",
       "<polyline clip-path=\"url(#clip890)\" style=\"stroke:#000000; stroke-width:4; stroke-opacity:1; fill:none\" points=\"\n",
       "  1511.47,1486.45 1511.47,1469.18 \n",
       "  \"/>\n",
       "<polyline clip-path=\"url(#clip890)\" style=\"stroke:#000000; stroke-width:4; stroke-opacity:1; fill:none\" points=\"\n",
       "  1902.77,1486.45 1902.77,1469.18 \n",
       "  \"/>\n",
       "<polyline clip-path=\"url(#clip890)\" style=\"stroke:#000000; stroke-width:4; stroke-opacity:1; fill:none\" points=\"\n",
       "  2294.06,1486.45 2294.06,1469.18 \n",
       "  \"/>\n",
       "<path clip-path=\"url(#clip890)\" d=\"M 0 0 M327.859 1512.56 L346.215 1512.56 L346.215 1516.5 L332.141 1516.5 L332.141 1524.97 Q333.16 1524.62 334.178 1524.46 Q335.197 1524.27 336.215 1524.27 Q342.002 1524.27 345.382 1527.44 Q348.761 1530.62 348.761 1536.03 Q348.761 1541.61 345.289 1544.71 Q341.817 1547.79 335.497 1547.79 Q333.322 1547.79 331.053 1547.42 Q328.808 1547.05 326.4 1546.31 L326.4 1541.61 Q328.484 1542.74 330.706 1543.3 Q332.928 1543.86 335.405 1543.86 Q339.409 1543.86 341.747 1541.75 Q344.085 1539.64 344.085 1536.03 Q344.085 1532.42 341.747 1530.31 Q339.409 1528.21 335.405 1528.21 Q333.53 1528.21 331.655 1528.62 Q329.803 1529.04 327.859 1529.92 L327.859 1512.56 Z\" fill=\"#000000\" fill-rule=\"evenodd\" fill-opacity=\"1\" /><path clip-path=\"url(#clip890)\" d=\"M 0 0 M729.282 1527.98 Q726.134 1527.98 724.282 1530.13 Q722.453 1532.28 722.453 1536.03 Q722.453 1539.76 724.282 1541.93 Q726.134 1544.09 729.282 1544.09 Q732.43 1544.09 734.259 1541.93 Q736.111 1539.76 736.111 1536.03 Q736.111 1532.28 734.259 1530.13 Q732.43 1527.98 729.282 1527.98 M738.564 1513.32 L738.564 1517.58 Q736.805 1516.75 735 1516.31 Q733.217 1515.87 731.458 1515.87 Q726.828 1515.87 724.375 1519 Q721.944 1522.12 721.597 1528.44 Q722.963 1526.43 725.023 1525.36 Q727.083 1524.27 729.56 1524.27 Q734.768 1524.27 737.777 1527.44 Q740.81 1530.59 740.81 1536.03 Q740.81 1541.36 737.662 1544.57 Q734.513 1547.79 729.282 1547.79 Q723.287 1547.79 720.115 1543.21 Q716.944 1538.6 716.944 1529.87 Q716.944 1521.68 720.833 1516.82 Q724.722 1511.93 731.273 1511.93 Q733.032 1511.93 734.814 1512.28 Q736.62 1512.63 738.564 1513.32 Z\" fill=\"#000000\" fill-rule=\"evenodd\" fill-opacity=\"1\" /><path clip-path=\"url(#clip890)\" d=\"M 0 0 M1109.06 1512.56 L1131.28 1512.56 L1131.28 1514.55 L1118.74 1547.12 L1113.85 1547.12 L1125.66 1516.5 L1109.06 1516.5 L1109.06 1512.56 Z\" fill=\"#000000\" fill-rule=\"evenodd\" fill-opacity=\"1\" /><path clip-path=\"url(#clip890)\" d=\"M 0 0 M1511.47 1530.71 Q1508.14 1530.71 1506.21 1532.49 Q1504.32 1534.27 1504.32 1537.4 Q1504.32 1540.52 1506.21 1542.31 Q1508.14 1544.09 1511.47 1544.09 Q1514.8 1544.09 1516.72 1542.31 Q1518.65 1540.5 1518.65 1537.4 Q1518.65 1534.27 1516.72 1532.49 Q1514.83 1530.71 1511.47 1530.71 M1506.79 1528.72 Q1503.78 1527.98 1502.09 1525.92 Q1500.43 1523.86 1500.43 1520.89 Q1500.43 1516.75 1503.37 1514.34 Q1506.33 1511.93 1511.47 1511.93 Q1516.63 1511.93 1519.57 1514.34 Q1522.51 1516.75 1522.51 1520.89 Q1522.51 1523.86 1520.82 1525.92 Q1519.15 1527.98 1516.17 1528.72 Q1519.55 1529.5 1521.42 1531.8 Q1523.32 1534.09 1523.32 1537.4 Q1523.32 1542.42 1520.24 1545.11 Q1517.19 1547.79 1511.47 1547.79 Q1505.75 1547.79 1502.67 1545.11 Q1499.62 1542.42 1499.62 1537.4 Q1499.62 1534.09 1501.52 1531.8 Q1503.41 1529.5 1506.79 1528.72 M1505.08 1521.33 Q1505.08 1524.02 1506.75 1525.52 Q1508.44 1527.03 1511.47 1527.03 Q1514.48 1527.03 1516.17 1525.52 Q1517.88 1524.02 1517.88 1521.33 Q1517.88 1518.65 1516.17 1517.14 Q1514.48 1515.64 1511.47 1515.64 Q1508.44 1515.64 1506.75 1517.14 Q1505.08 1518.65 1505.08 1521.33 Z\" fill=\"#000000\" fill-rule=\"evenodd\" fill-opacity=\"1\" /><path clip-path=\"url(#clip890)\" d=\"M 0 0 M1893.07 1546.4 L1893.07 1542.14 Q1894.83 1542.98 1896.63 1543.42 Q1898.44 1543.86 1900.17 1543.86 Q1904.8 1543.86 1907.23 1540.75 Q1909.69 1537.63 1910.03 1531.29 Q1908.69 1533.28 1906.63 1534.34 Q1904.57 1535.41 1902.07 1535.41 Q1896.89 1535.41 1893.85 1532.28 Q1890.84 1529.13 1890.84 1523.69 Q1890.84 1518.37 1893.99 1515.15 Q1897.14 1511.93 1902.37 1511.93 Q1908.37 1511.93 1911.52 1516.54 Q1914.69 1521.12 1914.69 1529.87 Q1914.69 1538.05 1910.8 1542.93 Q1906.93 1547.79 1900.38 1547.79 Q1898.62 1547.79 1896.82 1547.44 Q1895.01 1547.1 1893.07 1546.4 M1902.37 1531.75 Q1905.52 1531.75 1907.35 1529.6 Q1909.2 1527.44 1909.2 1523.69 Q1909.2 1519.97 1907.35 1517.81 Q1905.52 1515.64 1902.37 1515.64 Q1899.22 1515.64 1897.37 1517.81 Q1895.54 1519.97 1895.54 1523.69 Q1895.54 1527.44 1897.37 1529.6 Q1899.22 1531.75 1902.37 1531.75 Z\" fill=\"#000000\" fill-rule=\"evenodd\" fill-opacity=\"1\" /><path clip-path=\"url(#clip890)\" d=\"M 0 0 M2270.94 1543.18 L2278.58 1543.18 L2278.58 1516.82 L2270.27 1518.49 L2270.27 1514.23 L2278.53 1512.56 L2283.21 1512.56 L2283.21 1543.18 L2290.84 1543.18 L2290.84 1547.12 L2270.94 1547.12 L2270.94 1543.18 Z\" fill=\"#000000\" fill-rule=\"evenodd\" fill-opacity=\"1\" /><path clip-path=\"url(#clip890)\" d=\"M 0 0 M2305.91 1515.64 Q2302.3 1515.64 2300.47 1519.2 Q2298.67 1522.75 2298.67 1529.87 Q2298.67 1536.98 2300.47 1540.55 Q2302.3 1544.09 2305.91 1544.09 Q2309.55 1544.09 2311.35 1540.55 Q2313.18 1536.98 2313.18 1529.87 Q2313.18 1522.75 2311.35 1519.2 Q2309.55 1515.64 2305.91 1515.64 M2305.91 1511.93 Q2311.72 1511.93 2314.78 1516.54 Q2317.86 1521.12 2317.86 1529.87 Q2317.86 1538.6 2314.78 1543.21 Q2311.72 1547.79 2305.91 1547.79 Q2300.1 1547.79 2297.02 1543.21 Q2293.97 1538.6 2293.97 1529.87 Q2293.97 1521.12 2297.02 1516.54 Q2300.1 1511.93 2305.91 1511.93 Z\" fill=\"#000000\" fill-rule=\"evenodd\" fill-opacity=\"1\" /><polyline clip-path=\"url(#clip892)\" style=\"stroke:#000000; stroke-width:2; stroke-opacity:0.1; fill:none\" points=\"\n",
       "  278.886,1437.27 2352.76,1437.27 \n",
       "  \"/>\n",
       "<polyline clip-path=\"url(#clip892)\" style=\"stroke:#000000; stroke-width:2; stroke-opacity:0.1; fill:none\" points=\"\n",
       "  278.886,1197.16 2352.76,1197.16 \n",
       "  \"/>\n",
       "<polyline clip-path=\"url(#clip892)\" style=\"stroke:#000000; stroke-width:2; stroke-opacity:0.1; fill:none\" points=\"\n",
       "  278.886,957.055 2352.76,957.055 \n",
       "  \"/>\n",
       "<polyline clip-path=\"url(#clip892)\" style=\"stroke:#000000; stroke-width:2; stroke-opacity:0.1; fill:none\" points=\"\n",
       "  278.886,716.945 2352.76,716.945 \n",
       "  \"/>\n",
       "<polyline clip-path=\"url(#clip892)\" style=\"stroke:#000000; stroke-width:2; stroke-opacity:0.1; fill:none\" points=\"\n",
       "  278.886,476.835 2352.76,476.835 \n",
       "  \"/>\n",
       "<polyline clip-path=\"url(#clip892)\" style=\"stroke:#000000; stroke-width:2; stroke-opacity:0.1; fill:none\" points=\"\n",
       "  278.886,236.725 2352.76,236.725 \n",
       "  \"/>\n",
       "<polyline clip-path=\"url(#clip890)\" style=\"stroke:#000000; stroke-width:4; stroke-opacity:1; fill:none\" points=\"\n",
       "  278.886,1486.45 278.886,47.2441 \n",
       "  \"/>\n",
       "<polyline clip-path=\"url(#clip890)\" style=\"stroke:#000000; stroke-width:4; stroke-opacity:1; fill:none\" points=\"\n",
       "  278.886,1437.27 303.773,1437.27 \n",
       "  \"/>\n",
       "<polyline clip-path=\"url(#clip890)\" style=\"stroke:#000000; stroke-width:4; stroke-opacity:1; fill:none\" points=\"\n",
       "  278.886,1197.16 303.773,1197.16 \n",
       "  \"/>\n",
       "<polyline clip-path=\"url(#clip890)\" style=\"stroke:#000000; stroke-width:4; stroke-opacity:1; fill:none\" points=\"\n",
       "  278.886,957.055 303.773,957.055 \n",
       "  \"/>\n",
       "<polyline clip-path=\"url(#clip890)\" style=\"stroke:#000000; stroke-width:4; stroke-opacity:1; fill:none\" points=\"\n",
       "  278.886,716.945 303.773,716.945 \n",
       "  \"/>\n",
       "<polyline clip-path=\"url(#clip890)\" style=\"stroke:#000000; stroke-width:4; stroke-opacity:1; fill:none\" points=\"\n",
       "  278.886,476.835 303.773,476.835 \n",
       "  \"/>\n",
       "<polyline clip-path=\"url(#clip890)\" style=\"stroke:#000000; stroke-width:4; stroke-opacity:1; fill:none\" points=\"\n",
       "  278.886,236.725 303.773,236.725 \n",
       "  \"/>\n",
       "<path clip-path=\"url(#clip890)\" d=\"M 0 0 M52.4736 1426.44 L74.6957 1426.44 L74.6957 1428.43 L62.1495 1461 L57.2652 1461 L69.0707 1430.38 L52.4736 1430.38 L52.4736 1426.44 Z\" fill=\"#000000\" fill-rule=\"evenodd\" fill-opacity=\"1\" /><path clip-path=\"url(#clip890)\" d=\"M 0 0 M79.7651 1455.12 L84.6494 1455.12 L84.6494 1461 L79.7651 1461 L79.7651 1455.12 Z\" fill=\"#000000\" fill-rule=\"evenodd\" fill-opacity=\"1\" /><path clip-path=\"url(#clip890)\" d=\"M 0 0 M99.7187 1429.52 Q96.1076 1429.52 94.2789 1433.09 Q92.4734 1436.63 92.4734 1443.76 Q92.4734 1450.86 94.2789 1454.43 Q96.1076 1457.97 99.7187 1457.97 Q103.353 1457.97 105.159 1454.43 Q106.987 1450.86 106.987 1443.76 Q106.987 1436.63 105.159 1433.09 Q103.353 1429.52 99.7187 1429.52 M99.7187 1425.82 Q105.529 1425.82 108.584 1430.42 Q111.663 1435.01 111.663 1443.76 Q111.663 1452.48 108.584 1457.09 Q105.529 1461.67 99.7187 1461.67 Q93.9086 1461.67 90.8299 1457.09 Q87.7743 1452.48 87.7743 1443.76 Q87.7743 1435.01 90.8299 1430.42 Q93.9086 1425.82 99.7187 1425.82 Z\" fill=\"#000000\" fill-rule=\"evenodd\" fill-opacity=\"1\" /><path clip-path=\"url(#clip890)\" d=\"M 0 0 M126.732 1429.52 Q123.121 1429.52 121.293 1433.09 Q119.487 1436.63 119.487 1443.76 Q119.487 1450.86 121.293 1454.43 Q123.121 1457.97 126.732 1457.97 Q130.367 1457.97 132.172 1454.43 Q134.001 1450.86 134.001 1443.76 Q134.001 1436.63 132.172 1433.09 Q130.367 1429.52 126.732 1429.52 M126.732 1425.82 Q132.543 1425.82 135.598 1430.42 Q138.677 1435.01 138.677 1443.76 Q138.677 1452.48 135.598 1457.09 Q132.543 1461.67 126.732 1461.67 Q120.922 1461.67 117.844 1457.09 Q114.788 1452.48 114.788 1443.76 Q114.788 1435.01 117.844 1430.42 Q120.922 1425.82 126.732 1425.82 Z\" fill=\"#000000\" fill-rule=\"evenodd\" fill-opacity=\"1\" /><path clip-path=\"url(#clip890)\" d=\"M 0 0 M171.917 1435.54 L161.339 1446.16 L171.917 1456.74 L169.163 1459.54 L158.538 1448.92 L147.913 1459.54 L145.181 1456.74 L155.737 1446.16 L145.181 1435.54 L147.913 1432.74 L158.538 1443.36 L169.163 1432.74 L171.917 1435.54 Z\" fill=\"#000000\" fill-rule=\"evenodd\" fill-opacity=\"1\" /><path clip-path=\"url(#clip890)\" d=\"M 0 0 M177.797 1457.07 L185.436 1457.07 L185.436 1430.7 L177.126 1432.37 L177.126 1428.11 L185.39 1426.44 L190.065 1426.44 L190.065 1457.07 L197.704 1457.07 L197.704 1461 L177.797 1461 L177.797 1457.07 Z\" fill=\"#000000\" fill-rule=\"evenodd\" fill-opacity=\"1\" /><path clip-path=\"url(#clip890)\" d=\"M 0 0 M212.774 1429.52 Q209.163 1429.52 207.334 1433.09 Q205.528 1436.63 205.528 1443.76 Q205.528 1450.86 207.334 1454.43 Q209.163 1457.97 212.774 1457.97 Q216.408 1457.97 218.213 1454.43 Q220.042 1450.86 220.042 1443.76 Q220.042 1436.63 218.213 1433.09 Q216.408 1429.52 212.774 1429.52 M212.774 1425.82 Q218.584 1425.82 221.639 1430.42 Q224.718 1435.01 224.718 1443.76 Q224.718 1452.48 221.639 1457.09 Q218.584 1461.67 212.774 1461.67 Q206.964 1461.67 203.885 1457.09 Q200.829 1452.48 200.829 1443.76 Q200.829 1435.01 203.885 1430.42 Q206.964 1425.82 212.774 1425.82 Z\" fill=\"#000000\" fill-rule=\"evenodd\" fill-opacity=\"1\" /><path clip-path=\"url(#clip890)\" d=\"M 0 0 M225.903 1405.51 L240.817 1405.51 L240.817 1408.71 L229.382 1408.71 L229.382 1415.59 Q230.21 1415.31 231.037 1415.18 Q231.865 1415.03 232.693 1415.03 Q237.394 1415.03 240.14 1417.61 Q242.886 1420.18 242.886 1424.58 Q242.886 1429.12 240.065 1431.64 Q237.244 1434.14 232.11 1434.14 Q230.342 1434.14 228.498 1433.84 Q226.674 1433.54 224.718 1432.93 L224.718 1429.12 Q226.411 1430.04 228.216 1430.49 Q230.022 1430.94 232.034 1430.94 Q235.288 1430.94 237.188 1429.23 Q239.087 1427.52 239.087 1424.58 Q239.087 1421.65 237.188 1419.94 Q235.288 1418.23 232.034 1418.23 Q230.511 1418.23 228.987 1418.56 Q227.483 1418.9 225.903 1419.62 L225.903 1405.51 Z\" fill=\"#000000\" fill-rule=\"evenodd\" fill-opacity=\"1\" /><path clip-path=\"url(#clip890)\" d=\"M 0 0 M55.0662 1186.33 L77.2883 1186.33 L77.2883 1188.32 L64.7421 1220.89 L59.8578 1220.89 L71.6633 1190.27 L55.0662 1190.27 L55.0662 1186.33 Z\" fill=\"#000000\" fill-rule=\"evenodd\" fill-opacity=\"1\" /><path clip-path=\"url(#clip890)\" d=\"M 0 0 M82.3577 1215.01 L87.2419 1215.01 L87.2419 1220.89 L82.3577 1220.89 L82.3577 1215.01 Z\" fill=\"#000000\" fill-rule=\"evenodd\" fill-opacity=\"1\" /><path clip-path=\"url(#clip890)\" d=\"M 0 0 M96.3391 1216.96 L112.658 1216.96 L112.658 1220.89 L90.7141 1220.89 L90.7141 1216.96 Q93.3762 1214.2 97.9595 1209.57 Q102.566 1204.92 103.746 1203.58 Q105.992 1201.05 106.871 1199.32 Q107.774 1197.56 107.774 1195.87 Q107.774 1193.11 105.83 1191.38 Q103.909 1189.64 100.807 1189.64 Q98.6076 1189.64 96.1539 1190.41 Q93.7234 1191.17 90.9456 1192.72 L90.9456 1188 Q93.7697 1186.86 96.2234 1186.29 Q98.6771 1185.71 100.714 1185.71 Q106.084 1185.71 109.279 1188.39 Q112.473 1191.08 112.473 1195.57 Q112.473 1197.7 111.663 1199.62 Q110.876 1201.52 108.77 1204.11 Q108.191 1204.78 105.089 1208 Q101.987 1211.19 96.3391 1216.96 Z\" fill=\"#000000\" fill-rule=\"evenodd\" fill-opacity=\"1\" /><path clip-path=\"url(#clip890)\" d=\"M 0 0 M117.774 1186.33 L136.131 1186.33 L136.131 1190.27 L122.057 1190.27 L122.057 1198.74 Q123.075 1198.39 124.094 1198.23 Q125.112 1198.05 126.131 1198.05 Q131.918 1198.05 135.297 1201.22 Q138.677 1204.39 138.677 1209.8 Q138.677 1215.38 135.205 1218.48 Q131.732 1221.56 125.413 1221.56 Q123.237 1221.56 120.969 1221.19 Q118.723 1220.82 116.316 1220.08 L116.316 1215.38 Q118.399 1216.52 120.621 1217.07 Q122.844 1217.63 125.32 1217.63 Q129.325 1217.63 131.663 1215.52 Q134.001 1213.42 134.001 1209.8 Q134.001 1206.19 131.663 1204.09 Q129.325 1201.98 125.32 1201.98 Q123.445 1201.98 121.57 1202.4 Q119.719 1202.81 117.774 1203.69 L117.774 1186.33 Z\" fill=\"#000000\" fill-rule=\"evenodd\" fill-opacity=\"1\" /><path clip-path=\"url(#clip890)\" d=\"M 0 0 M171.917 1195.43 L161.339 1206.05 L171.917 1216.63 L169.163 1219.43 L158.538 1208.81 L147.913 1219.43 L145.181 1216.63 L155.737 1206.05 L145.181 1195.43 L147.913 1192.63 L158.538 1203.25 L169.163 1192.63 L171.917 1195.43 Z\" fill=\"#000000\" fill-rule=\"evenodd\" fill-opacity=\"1\" /><path clip-path=\"url(#clip890)\" d=\"M 0 0 M177.797 1216.96 L185.436 1216.96 L185.436 1190.59 L177.126 1192.26 L177.126 1188 L185.39 1186.33 L190.065 1186.33 L190.065 1216.96 L197.704 1216.96 L197.704 1220.89 L177.797 1220.89 L177.797 1216.96 Z\" fill=\"#000000\" fill-rule=\"evenodd\" fill-opacity=\"1\" /><path clip-path=\"url(#clip890)\" d=\"M 0 0 M212.774 1189.41 Q209.163 1189.41 207.334 1192.98 Q205.528 1196.52 205.528 1203.65 Q205.528 1210.75 207.334 1214.32 Q209.163 1217.86 212.774 1217.86 Q216.408 1217.86 218.213 1214.32 Q220.042 1210.75 220.042 1203.65 Q220.042 1196.52 218.213 1192.98 Q216.408 1189.41 212.774 1189.41 M212.774 1185.71 Q218.584 1185.71 221.639 1190.31 Q224.718 1194.9 224.718 1203.65 Q224.718 1212.37 221.639 1216.98 Q218.584 1221.56 212.774 1221.56 Q206.964 1221.56 203.885 1216.98 Q200.829 1212.37 200.829 1203.65 Q200.829 1194.9 203.885 1190.31 Q206.964 1185.71 212.774 1185.71 Z\" fill=\"#000000\" fill-rule=\"evenodd\" fill-opacity=\"1\" /><path clip-path=\"url(#clip890)\" d=\"M 0 0 M225.903 1165.4 L240.817 1165.4 L240.817 1168.6 L229.382 1168.6 L229.382 1175.48 Q230.21 1175.2 231.037 1175.07 Q231.865 1174.92 232.693 1174.92 Q237.394 1174.92 240.14 1177.5 Q242.886 1180.07 242.886 1184.47 Q242.886 1189.01 240.065 1191.53 Q237.244 1194.03 232.11 1194.03 Q230.342 1194.03 228.498 1193.73 Q226.674 1193.43 224.718 1192.82 L224.718 1189.01 Q226.411 1189.93 228.216 1190.38 Q230.022 1190.83 232.034 1190.83 Q235.288 1190.83 237.188 1189.12 Q239.087 1187.41 239.087 1184.47 Q239.087 1181.54 237.188 1179.83 Q235.288 1178.12 232.034 1178.12 Q230.511 1178.12 228.987 1178.45 Q227.483 1178.79 225.903 1179.51 L225.903 1165.4 Z\" fill=\"#000000\" fill-rule=\"evenodd\" fill-opacity=\"1\" /><path clip-path=\"url(#clip890)\" d=\"M 0 0 M53.469 946.222 L75.6911 946.222 L75.6911 948.213 L63.1448 980.782 L58.2606 980.782 L70.0661 950.157 L53.469 950.157 L53.469 946.222 Z\" fill=\"#000000\" fill-rule=\"evenodd\" fill-opacity=\"1\" /><path clip-path=\"url(#clip890)\" d=\"M 0 0 M80.7605 974.903 L85.6447 974.903 L85.6447 980.782 L80.7605 980.782 L80.7605 974.903 Z\" fill=\"#000000\" fill-rule=\"evenodd\" fill-opacity=\"1\" /><path clip-path=\"url(#clip890)\" d=\"M 0 0 M90.7604 946.222 L109.117 946.222 L109.117 950.157 L95.0428 950.157 L95.0428 958.63 Q96.0613 958.282 97.0798 958.12 Q98.0984 957.935 99.1169 957.935 Q104.904 957.935 108.283 961.106 Q111.663 964.278 111.663 969.694 Q111.663 975.273 108.191 978.375 Q104.719 981.454 98.3993 981.454 Q96.2234 981.454 93.9549 981.083 Q91.7095 980.713 89.3021 979.972 L89.3021 975.273 Q91.3854 976.407 93.6076 976.963 Q95.8298 977.518 98.3067 977.518 Q102.311 977.518 104.649 975.412 Q106.987 973.305 106.987 969.694 Q106.987 966.083 104.649 963.977 Q102.311 961.87 98.3067 961.87 Q96.4317 961.87 94.5567 962.287 Q92.7049 962.704 90.7604 963.583 L90.7604 946.222 Z\" fill=\"#000000\" fill-rule=\"evenodd\" fill-opacity=\"1\" /><path clip-path=\"url(#clip890)\" d=\"M 0 0 M126.732 949.301 Q123.121 949.301 121.293 952.866 Q119.487 956.407 119.487 963.537 Q119.487 970.643 121.293 974.208 Q123.121 977.75 126.732 977.75 Q130.367 977.75 132.172 974.208 Q134.001 970.643 134.001 963.537 Q134.001 956.407 132.172 952.866 Q130.367 949.301 126.732 949.301 M126.732 945.597 Q132.543 945.597 135.598 950.204 Q138.677 954.787 138.677 963.537 Q138.677 972.264 135.598 976.87 Q132.543 981.454 126.732 981.454 Q120.922 981.454 117.844 976.87 Q114.788 972.264 114.788 963.537 Q114.788 954.787 117.844 950.204 Q120.922 945.597 126.732 945.597 Z\" fill=\"#000000\" fill-rule=\"evenodd\" fill-opacity=\"1\" /><path clip-path=\"url(#clip890)\" d=\"M 0 0 M171.917 955.319 L161.339 965.944 L171.917 976.523 L169.163 979.324 L158.538 968.699 L147.913 979.324 L145.181 976.523 L155.737 965.944 L145.181 955.319 L147.913 952.519 L158.538 963.143 L169.163 952.519 L171.917 955.319 Z\" fill=\"#000000\" fill-rule=\"evenodd\" fill-opacity=\"1\" /><path clip-path=\"url(#clip890)\" d=\"M 0 0 M177.797 976.847 L185.436 976.847 L185.436 950.481 L177.126 952.148 L177.126 947.889 L185.39 946.222 L190.065 946.222 L190.065 976.847 L197.704 976.847 L197.704 980.782 L177.797 980.782 L177.797 976.847 Z\" fill=\"#000000\" fill-rule=\"evenodd\" fill-opacity=\"1\" /><path clip-path=\"url(#clip890)\" d=\"M 0 0 M212.774 949.301 Q209.163 949.301 207.334 952.866 Q205.528 956.407 205.528 963.537 Q205.528 970.643 207.334 974.208 Q209.163 977.75 212.774 977.75 Q216.408 977.75 218.213 974.208 Q220.042 970.643 220.042 963.537 Q220.042 956.407 218.213 952.866 Q216.408 949.301 212.774 949.301 M212.774 945.597 Q218.584 945.597 221.639 950.204 Q224.718 954.787 224.718 963.537 Q224.718 972.264 221.639 976.87 Q218.584 981.454 212.774 981.454 Q206.964 981.454 203.885 976.87 Q200.829 972.264 200.829 963.537 Q200.829 954.787 203.885 950.204 Q206.964 945.597 212.774 945.597 Z\" fill=\"#000000\" fill-rule=\"evenodd\" fill-opacity=\"1\" /><path clip-path=\"url(#clip890)\" d=\"M 0 0 M225.903 925.292 L240.817 925.292 L240.817 928.489 L229.382 928.489 L229.382 935.373 Q230.21 935.091 231.037 934.959 Q231.865 934.809 232.693 934.809 Q237.394 934.809 240.14 937.385 Q242.886 939.962 242.886 944.363 Q242.886 948.896 240.065 951.416 Q237.244 953.917 232.11 953.917 Q230.342 953.917 228.498 953.616 Q226.674 953.315 224.718 952.714 L224.718 948.896 Q226.411 949.817 228.216 950.269 Q230.022 950.72 232.034 950.72 Q235.288 950.72 237.188 949.008 Q239.087 947.297 239.087 944.363 Q239.087 941.429 237.188 939.717 Q235.288 938.006 232.034 938.006 Q230.511 938.006 228.987 938.344 Q227.483 938.683 225.903 939.398 L225.903 925.292 Z\" fill=\"#000000\" fill-rule=\"evenodd\" fill-opacity=\"1\" /><path clip-path=\"url(#clip890)\" d=\"M 0 0 M54.3717 706.112 L76.5938 706.112 L76.5938 708.103 L64.0476 740.672 L59.1634 740.672 L70.9689 710.047 L54.3717 710.047 L54.3717 706.112 Z\" fill=\"#000000\" fill-rule=\"evenodd\" fill-opacity=\"1\" /><path clip-path=\"url(#clip890)\" d=\"M 0 0 M81.6633 734.793 L86.5475 734.793 L86.5475 740.672 L81.6633 740.672 L81.6633 734.793 Z\" fill=\"#000000\" fill-rule=\"evenodd\" fill-opacity=\"1\" /><path clip-path=\"url(#clip890)\" d=\"M 0 0 M90.4364 706.112 L112.658 706.112 L112.658 708.103 L100.112 740.672 L95.228 740.672 L107.033 710.047 L90.4364 710.047 L90.4364 706.112 Z\" fill=\"#000000\" fill-rule=\"evenodd\" fill-opacity=\"1\" /><path clip-path=\"url(#clip890)\" d=\"M 0 0 M117.774 706.112 L136.131 706.112 L136.131 710.047 L122.057 710.047 L122.057 718.52 Q123.075 718.172 124.094 718.01 Q125.112 717.825 126.131 717.825 Q131.918 717.825 135.297 720.996 Q138.677 724.168 138.677 729.584 Q138.677 735.163 135.205 738.265 Q131.732 741.344 125.413 741.344 Q123.237 741.344 120.969 740.973 Q118.723 740.603 116.316 739.862 L116.316 735.163 Q118.399 736.297 120.621 736.853 Q122.844 737.408 125.32 737.408 Q129.325 737.408 131.663 735.302 Q134.001 733.195 134.001 729.584 Q134.001 725.973 131.663 723.867 Q129.325 721.76 125.32 721.76 Q123.445 721.76 121.57 722.177 Q119.719 722.594 117.774 723.473 L117.774 706.112 Z\" fill=\"#000000\" fill-rule=\"evenodd\" fill-opacity=\"1\" /><path clip-path=\"url(#clip890)\" d=\"M 0 0 M171.917 715.209 L161.339 725.834 L171.917 736.413 L169.163 739.214 L158.538 728.589 L147.913 739.214 L145.181 736.413 L155.737 725.834 L145.181 715.209 L147.913 712.409 L158.538 723.033 L169.163 712.409 L171.917 715.209 Z\" fill=\"#000000\" fill-rule=\"evenodd\" fill-opacity=\"1\" /><path clip-path=\"url(#clip890)\" d=\"M 0 0 M177.797 736.737 L185.436 736.737 L185.436 710.371 L177.126 712.038 L177.126 707.779 L185.39 706.112 L190.065 706.112 L190.065 736.737 L197.704 736.737 L197.704 740.672 L177.797 740.672 L177.797 736.737 Z\" fill=\"#000000\" fill-rule=\"evenodd\" fill-opacity=\"1\" /><path clip-path=\"url(#clip890)\" d=\"M 0 0 M212.774 709.191 Q209.163 709.191 207.334 712.756 Q205.528 716.297 205.528 723.427 Q205.528 730.533 207.334 734.098 Q209.163 737.64 212.774 737.64 Q216.408 737.64 218.213 734.098 Q220.042 730.533 220.042 723.427 Q220.042 716.297 218.213 712.756 Q216.408 709.191 212.774 709.191 M212.774 705.487 Q218.584 705.487 221.639 710.094 Q224.718 714.677 224.718 723.427 Q224.718 732.154 221.639 736.76 Q218.584 741.344 212.774 741.344 Q206.964 741.344 203.885 736.76 Q200.829 732.154 200.829 723.427 Q200.829 714.677 203.885 710.094 Q206.964 705.487 212.774 705.487 Z\" fill=\"#000000\" fill-rule=\"evenodd\" fill-opacity=\"1\" /><path clip-path=\"url(#clip890)\" d=\"M 0 0 M225.903 685.182 L240.817 685.182 L240.817 688.379 L229.382 688.379 L229.382 695.263 Q230.21 694.981 231.037 694.849 Q231.865 694.699 232.693 694.699 Q237.394 694.699 240.14 697.275 Q242.886 699.852 242.886 704.253 Q242.886 708.786 240.065 711.306 Q237.244 713.807 232.11 713.807 Q230.342 713.807 228.498 713.506 Q226.674 713.205 224.718 712.604 L224.718 708.786 Q226.411 709.707 228.216 710.159 Q230.022 710.61 232.034 710.61 Q235.288 710.61 237.188 708.898 Q239.087 707.187 239.087 704.253 Q239.087 701.319 237.188 699.607 Q235.288 697.896 232.034 697.896 Q230.511 697.896 228.987 698.234 Q227.483 698.573 225.903 699.288 L225.903 685.182 Z\" fill=\"#000000\" fill-rule=\"evenodd\" fill-opacity=\"1\" /><path clip-path=\"url(#clip890)\" d=\"M 0 0 M62.8439 484.15 Q59.5106 484.15 57.5893 485.933 Q55.6912 487.715 55.6912 490.84 Q55.6912 493.965 57.5893 495.747 Q59.5106 497.53 62.8439 497.53 Q66.1772 497.53 68.0985 495.747 Q70.0198 493.942 70.0198 490.84 Q70.0198 487.715 68.0985 485.933 Q66.2004 484.15 62.8439 484.15 M58.168 482.16 Q55.1588 481.419 53.469 479.359 Q51.8023 477.298 51.8023 474.336 Q51.8023 470.192 54.7421 467.785 Q57.7051 465.377 62.8439 465.377 Q68.0059 465.377 70.9457 467.785 Q73.8855 470.192 73.8855 474.336 Q73.8855 477.298 72.1957 479.359 Q70.5291 481.419 67.543 482.16 Q70.9226 482.947 72.7976 485.238 Q74.6957 487.53 74.6957 490.84 Q74.6957 495.863 71.617 498.548 Q68.5615 501.234 62.8439 501.234 Q57.1264 501.234 54.0477 498.548 Q50.9921 495.863 50.9921 490.84 Q50.9921 487.53 52.8903 485.238 Q54.7884 482.947 58.168 482.16 M56.4551 474.775 Q56.4551 477.461 58.1217 478.965 Q59.8115 480.47 62.8439 480.47 Q65.8532 480.47 67.543 478.965 Q69.2559 477.461 69.2559 474.775 Q69.2559 472.09 67.543 470.586 Q65.8532 469.081 62.8439 469.081 Q59.8115 469.081 58.1217 470.586 Q56.4551 472.09 56.4551 474.775 Z\" fill=\"#000000\" fill-rule=\"evenodd\" fill-opacity=\"1\" /><path clip-path=\"url(#clip890)\" d=\"M 0 0 M79.7651 494.683 L84.6494 494.683 L84.6494 500.562 L79.7651 500.562 L79.7651 494.683 Z\" fill=\"#000000\" fill-rule=\"evenodd\" fill-opacity=\"1\" /><path clip-path=\"url(#clip890)\" d=\"M 0 0 M99.7187 469.081 Q96.1076 469.081 94.2789 472.646 Q92.4734 476.187 92.4734 483.317 Q92.4734 490.423 94.2789 493.988 Q96.1076 497.53 99.7187 497.53 Q103.353 497.53 105.159 493.988 Q106.987 490.423 106.987 483.317 Q106.987 476.187 105.159 472.646 Q103.353 469.081 99.7187 469.081 M99.7187 465.377 Q105.529 465.377 108.584 469.984 Q111.663 474.567 111.663 483.317 Q111.663 492.044 108.584 496.65 Q105.529 501.234 99.7187 501.234 Q93.9086 501.234 90.8299 496.65 Q87.7743 492.044 87.7743 483.317 Q87.7743 474.567 90.8299 469.984 Q93.9086 465.377 99.7187 465.377 Z\" fill=\"#000000\" fill-rule=\"evenodd\" fill-opacity=\"1\" /><path clip-path=\"url(#clip890)\" d=\"M 0 0 M126.732 469.081 Q123.121 469.081 121.293 472.646 Q119.487 476.187 119.487 483.317 Q119.487 490.423 121.293 493.988 Q123.121 497.53 126.732 497.53 Q130.367 497.53 132.172 493.988 Q134.001 490.423 134.001 483.317 Q134.001 476.187 132.172 472.646 Q130.367 469.081 126.732 469.081 M126.732 465.377 Q132.543 465.377 135.598 469.984 Q138.677 474.567 138.677 483.317 Q138.677 492.044 135.598 496.65 Q132.543 501.234 126.732 501.234 Q120.922 501.234 117.844 496.65 Q114.788 492.044 114.788 483.317 Q114.788 474.567 117.844 469.984 Q120.922 465.377 126.732 465.377 Z\" fill=\"#000000\" fill-rule=\"evenodd\" fill-opacity=\"1\" /><path clip-path=\"url(#clip890)\" d=\"M 0 0 M171.917 475.099 L161.339 485.724 L171.917 496.303 L169.163 499.104 L158.538 488.479 L147.913 499.104 L145.181 496.303 L155.737 485.724 L145.181 475.099 L147.913 472.299 L158.538 482.923 L169.163 472.299 L171.917 475.099 Z\" fill=\"#000000\" fill-rule=\"evenodd\" fill-opacity=\"1\" /><path clip-path=\"url(#clip890)\" d=\"M 0 0 M177.797 496.627 L185.436 496.627 L185.436 470.261 L177.126 471.928 L177.126 467.669 L185.39 466.002 L190.065 466.002 L190.065 496.627 L197.704 496.627 L197.704 500.562 L177.797 500.562 L177.797 496.627 Z\" fill=\"#000000\" fill-rule=\"evenodd\" fill-opacity=\"1\" /><path clip-path=\"url(#clip890)\" d=\"M 0 0 M212.774 469.081 Q209.163 469.081 207.334 472.646 Q205.528 476.187 205.528 483.317 Q205.528 490.423 207.334 493.988 Q209.163 497.53 212.774 497.53 Q216.408 497.53 218.213 493.988 Q220.042 490.423 220.042 483.317 Q220.042 476.187 218.213 472.646 Q216.408 469.081 212.774 469.081 M212.774 465.377 Q218.584 465.377 221.639 469.984 Q224.718 474.567 224.718 483.317 Q224.718 492.044 221.639 496.65 Q218.584 501.234 212.774 501.234 Q206.964 501.234 203.885 496.65 Q200.829 492.044 200.829 483.317 Q200.829 474.567 203.885 469.984 Q206.964 465.377 212.774 465.377 Z\" fill=\"#000000\" fill-rule=\"evenodd\" fill-opacity=\"1\" /><path clip-path=\"url(#clip890)\" d=\"M 0 0 M225.903 445.072 L240.817 445.072 L240.817 448.269 L229.382 448.269 L229.382 455.153 Q230.21 454.871 231.037 454.739 Q231.865 454.589 232.693 454.589 Q237.394 454.589 240.14 457.165 Q242.886 459.742 242.886 464.143 Q242.886 468.676 240.065 471.196 Q237.244 473.697 232.11 473.697 Q230.342 473.697 228.498 473.396 Q226.674 473.095 224.718 472.494 L224.718 468.676 Q226.411 469.597 228.216 470.049 Q230.022 470.5 232.034 470.5 Q235.288 470.5 237.188 468.788 Q239.087 467.077 239.087 464.143 Q239.087 461.209 237.188 459.497 Q235.288 457.786 232.034 457.786 Q230.511 457.786 228.987 458.124 Q227.483 458.463 225.903 459.178 L225.903 445.072 Z\" fill=\"#000000\" fill-rule=\"evenodd\" fill-opacity=\"1\" /><path clip-path=\"url(#clip890)\" d=\"M 0 0 M65.4365 244.04 Q62.1032 244.04 60.1819 245.823 Q58.2838 247.605 58.2838 250.73 Q58.2838 253.855 60.1819 255.637 Q62.1032 257.42 65.4365 257.42 Q68.7698 257.42 70.6911 255.637 Q72.6124 253.832 72.6124 250.73 Q72.6124 247.605 70.6911 245.823 Q68.793 244.04 65.4365 244.04 M60.7606 242.05 Q57.7513 241.309 56.0615 239.249 Q54.3949 237.188 54.3949 234.226 Q54.3949 230.082 57.3347 227.675 Q60.2976 225.267 65.4365 225.267 Q70.5985 225.267 73.5383 227.675 Q76.4781 230.082 76.4781 234.226 Q76.4781 237.188 74.7883 239.249 Q73.1216 241.309 70.1355 242.05 Q73.5152 242.837 75.3901 245.128 Q77.2883 247.42 77.2883 250.73 Q77.2883 255.753 74.2096 258.438 Q71.1541 261.124 65.4365 261.124 Q59.7189 261.124 56.6402 258.438 Q53.5847 255.753 53.5847 250.73 Q53.5847 247.42 55.4828 245.128 Q57.381 242.837 60.7606 242.05 M59.0476 234.665 Q59.0476 237.351 60.7143 238.855 Q62.4041 240.36 65.4365 240.36 Q68.4457 240.36 70.1355 238.855 Q71.8485 237.351 71.8485 234.665 Q71.8485 231.98 70.1355 230.476 Q68.4457 228.971 65.4365 228.971 Q62.4041 228.971 60.7143 230.476 Q59.0476 231.98 59.0476 234.665 Z\" fill=\"#000000\" fill-rule=\"evenodd\" fill-opacity=\"1\" /><path clip-path=\"url(#clip890)\" d=\"M 0 0 M82.3577 254.573 L87.2419 254.573 L87.2419 260.452 L82.3577 260.452 L82.3577 254.573 Z\" fill=\"#000000\" fill-rule=\"evenodd\" fill-opacity=\"1\" /><path clip-path=\"url(#clip890)\" d=\"M 0 0 M96.3391 256.517 L112.658 256.517 L112.658 260.452 L90.7141 260.452 L90.7141 256.517 Q93.3762 253.762 97.9595 249.133 Q102.566 244.48 103.746 243.138 Q105.992 240.614 106.871 238.878 Q107.774 237.119 107.774 235.429 Q107.774 232.675 105.83 230.939 Q103.909 229.202 100.807 229.202 Q98.6076 229.202 96.1539 229.966 Q93.7234 230.73 90.9456 232.281 L90.9456 227.559 Q93.7697 226.425 96.2234 225.846 Q98.6771 225.267 100.714 225.267 Q106.084 225.267 109.279 227.952 Q112.473 230.638 112.473 235.128 Q112.473 237.258 111.663 239.179 Q110.876 241.077 108.77 243.67 Q108.191 244.341 105.089 247.559 Q101.987 250.753 96.3391 256.517 Z\" fill=\"#000000\" fill-rule=\"evenodd\" fill-opacity=\"1\" /><path clip-path=\"url(#clip890)\" d=\"M 0 0 M117.774 225.892 L136.131 225.892 L136.131 229.827 L122.057 229.827 L122.057 238.3 Q123.075 237.952 124.094 237.79 Q125.112 237.605 126.131 237.605 Q131.918 237.605 135.297 240.776 Q138.677 243.948 138.677 249.364 Q138.677 254.943 135.205 258.045 Q131.732 261.124 125.413 261.124 Q123.237 261.124 120.969 260.753 Q118.723 260.383 116.316 259.642 L116.316 254.943 Q118.399 256.077 120.621 256.633 Q122.844 257.188 125.32 257.188 Q129.325 257.188 131.663 255.082 Q134.001 252.975 134.001 249.364 Q134.001 245.753 131.663 243.647 Q129.325 241.54 125.32 241.54 Q123.445 241.54 121.57 241.957 Q119.719 242.374 117.774 243.253 L117.774 225.892 Z\" fill=\"#000000\" fill-rule=\"evenodd\" fill-opacity=\"1\" /><path clip-path=\"url(#clip890)\" d=\"M 0 0 M171.917 234.989 L161.339 245.614 L171.917 256.193 L169.163 258.994 L158.538 248.369 L147.913 258.994 L145.181 256.193 L155.737 245.614 L145.181 234.989 L147.913 232.189 L158.538 242.813 L169.163 232.189 L171.917 234.989 Z\" fill=\"#000000\" fill-rule=\"evenodd\" fill-opacity=\"1\" /><path clip-path=\"url(#clip890)\" d=\"M 0 0 M177.797 256.517 L185.436 256.517 L185.436 230.151 L177.126 231.818 L177.126 227.559 L185.39 225.892 L190.065 225.892 L190.065 256.517 L197.704 256.517 L197.704 260.452 L177.797 260.452 L177.797 256.517 Z\" fill=\"#000000\" fill-rule=\"evenodd\" fill-opacity=\"1\" /><path clip-path=\"url(#clip890)\" d=\"M 0 0 M212.774 228.971 Q209.163 228.971 207.334 232.536 Q205.528 236.077 205.528 243.207 Q205.528 250.313 207.334 253.878 Q209.163 257.42 212.774 257.42 Q216.408 257.42 218.213 253.878 Q220.042 250.313 220.042 243.207 Q220.042 236.077 218.213 232.536 Q216.408 228.971 212.774 228.971 M212.774 225.267 Q218.584 225.267 221.639 229.874 Q224.718 234.457 224.718 243.207 Q224.718 251.934 221.639 256.54 Q218.584 261.124 212.774 261.124 Q206.964 261.124 203.885 256.54 Q200.829 251.934 200.829 243.207 Q200.829 234.457 203.885 229.874 Q206.964 225.267 212.774 225.267 Z\" fill=\"#000000\" fill-rule=\"evenodd\" fill-opacity=\"1\" /><path clip-path=\"url(#clip890)\" d=\"M 0 0 M225.903 204.962 L240.817 204.962 L240.817 208.159 L229.382 208.159 L229.382 215.043 Q230.21 214.761 231.037 214.629 Q231.865 214.479 232.693 214.479 Q237.394 214.479 240.14 217.055 Q242.886 219.632 242.886 224.033 Q242.886 228.566 240.065 231.086 Q237.244 233.587 232.11 233.587 Q230.342 233.587 228.498 233.286 Q226.674 232.985 224.718 232.384 L224.718 228.566 Q226.411 229.487 228.216 229.939 Q230.022 230.39 232.034 230.39 Q235.288 230.39 237.188 228.678 Q239.087 226.967 239.087 224.033 Q239.087 221.099 237.188 219.387 Q235.288 217.676 232.034 217.676 Q230.511 217.676 228.987 218.014 Q227.483 218.353 225.903 219.068 L225.903 204.962 Z\" fill=\"#000000\" fill-rule=\"evenodd\" fill-opacity=\"1\" /><polyline clip-path=\"url(#clip892)\" style=\"stroke:#009af9; stroke-width:4; stroke-opacity:1; fill:none\" points=\"\n",
       "  337.581,87.9763 728.877,621.159 1120.17,940.422 1511.47,1208.58 1902.77,1367.98 2294.06,1445.72 \n",
       "  \"/>\n",
       "<path clip-path=\"url(#clip890)\" d=\"\n",
       "M2002.18 216.178 L2283.63 216.178 L2283.63 95.2176 L2002.18 95.2176  Z\n",
       "  \" fill=\"#ffffff\" fill-rule=\"evenodd\" fill-opacity=\"1\"/>\n",
       "<polyline clip-path=\"url(#clip890)\" style=\"stroke:#000000; stroke-width:4; stroke-opacity:1; fill:none\" points=\"\n",
       "  2002.18,216.178 2283.63,216.178 2283.63,95.2176 2002.18,95.2176 2002.18,216.178 \n",
       "  \"/>\n",
       "<polyline clip-path=\"url(#clip890)\" style=\"stroke:#009af9; stroke-width:4; stroke-opacity:1; fill:none\" points=\"\n",
       "  2025.22,155.698 2163.48,155.698 \n",
       "  \"/>\n",
       "<path clip-path=\"url(#clip890)\" d=\"M 0 0 M2200.37 175.385 Q2198.56 180.015 2196.85 181.427 Q2195.13 182.839 2192.26 182.839 L2188.86 182.839 L2188.86 179.274 L2191.36 179.274 Q2193.12 179.274 2194.09 178.44 Q2195.06 177.607 2196.24 174.505 L2197.01 172.561 L2186.52 147.052 L2191.04 147.052 L2199.14 167.329 L2207.24 147.052 L2211.75 147.052 L2200.37 175.385 Z\" fill=\"#000000\" fill-rule=\"evenodd\" fill-opacity=\"1\" /><path clip-path=\"url(#clip890)\" d=\"M 0 0 M2217.63 169.042 L2225.27 169.042 L2225.27 142.677 L2216.96 144.343 L2216.96 140.084 L2225.23 138.418 L2229.9 138.418 L2229.9 169.042 L2237.54 169.042 L2237.54 172.978 L2217.63 172.978 L2217.63 169.042 Z\" fill=\"#000000\" fill-rule=\"evenodd\" fill-opacity=\"1\" /></svg>\n"
      ]
     },
     "execution_count": 13,
     "metadata": {},
     "output_type": "execute_result"
    }
   ],
   "source": [
    "# Plotting the total distance traveled by the waste as a function of the number of \n",
    "# landfills. Observation: as the number of landfills increases, the total distance \n",
    "# decreases. But the efficiency of deceasing total distance drops as the number of \n",
    "# landfills gets larger.\n",
    "\n",
    "plot(5:10, total_distance)"
   ]
  },
  {
   "cell_type": "code",
   "execution_count": 14,
   "metadata": {},
   "outputs": [
    {
     "data": {
      "text/plain": [
       "6-element Array{Pair{Any,Any},1}:\n",
       "  5 => [3, 4, 7, 13, 14]\n",
       "  6 => [3, 4, 7, 11, 13, 14]\n",
       "  7 => [3, 4, 6, 7, 11, 13, 14]\n",
       "  8 => [3, 4, 5, 6, 7, 11, 13, 14]\n",
       "  9 => [2, 3, 4, 5, 6, 7, 11, 14, 15]\n",
       " 10 => [2, 3, 4, 5, 6, 7, 11, 12, 14, 15]"
      ]
     },
     "execution_count": 14,
     "metadata": {},
     "output_type": "execute_result"
    }
   ],
   "source": [
    "# ii) Reporting the set of landfills built each time as a function of the number of \n",
    "# landfills. Observation: As the number of landfills increases, the new set of \n",
    "# landfills chosen includes the previous set\n",
    "\n",
    "sort(collect(landfill_set))"
   ]
  },
  {
   "cell_type": "code",
   "execution_count": 15,
   "metadata": {},
   "outputs": [],
   "source": [
    "### Part B\n",
    "# d) Constraints\n",
    "# (10) If landfill j is not built, the amount of waste shipped from each centers to \n",
    "# landfill j must equals 0. If landfill j is built, the amount of waste shipped from \n",
    "# a center to landfill j must be no more than the amount collected at the center.\n",
    "# Thus the value of M-1 is q-i\n",
    "\n",
    "# (11) If station k is not built, the amount of waste shipped from each center to \n",
    "# station k must equals 0. If station k is built, the amount of waste shipped from \n",
    "# a center to station k must be no more than the amount collected at the center.\n",
    "# Thus the value of M-2 is also q-i\n",
    "\n",
    "# (12) If landfill j is not built, the amount of waste shipped from each station \n",
    "# to landfill j must equals 0. If landfill j is built, the amount of waste shipped \n",
    "# from a station to landfill j must be no more than the capacity of that station\n",
    "# Thus the value of M-3 is 2000\n",
    "\n",
    "# (13) Total number of landfills must be no more than 5\n",
    "# (14) For each transfer, the amount of waste cannot exceed the capacity of a station\n",
    "# (15) The amount of waste shipped between each pair of locations must not be negative\n",
    "# (16) y-k must be either 1 or 0, indicating a landfilll is built or unbuilt.\n",
    "# (17) z-j must be either 1 or 0, indicating a landfilll is built or unbuilt."
   ]
  },
  {
   "cell_type": "code",
   "execution_count": 16,
   "metadata": {},
   "outputs": [],
   "source": [
    "# e) The objective is to minimize the sum of total station building cost plus total \n",
    "# transport cost. \n",
    "\n",
    "# Total station building cost equals to the number of stations built times unit \n",
    "# building cost(10000).\n",
    "\n",
    "# Total transport cost can be broken down into three types:\n",
    "# direct transport from centers to landfills,with uncompacted unit transport cost at 1;\n",
    "# transport from centers to stations, wtih uncompacted unit transport cost at 1;\n",
    "# and transport from stations to landfills, with compacted unit transport cost at 0.5.\n",
    "# Thus the objective function is"
   ]
  },
  {
   "cell_type": "markdown",
   "metadata": {},
   "source": [
    "$$\\min \\sum_{k=1}^{50} y_k \\times 10000 + \\sum_{i=1}^{50}\\sum_{j=1}^{15} d1_{ij} x1_{ij} + \\sum_{i=1}^{50}\\sum_{k=1}^{50} d2_{ik} x2_{ik} + \\sum_{k=1}^{50}\\sum_{j=1}^{15} d3_{kj} x3_{kj} \\times 0.5$$"
   ]
  },
  {
   "cell_type": "code",
   "execution_count": 17,
   "metadata": {},
   "outputs": [],
   "source": [
    "# f) Constraint (8) make sure that all the waste generated in each center is disposed.\n",
    "# The total amount of waste shipped from each center includesthe amount shipped \n",
    "# directly to landfills and the amount shipped to stations.\n",
    "# Thus the constraint equation is"
   ]
  },
  {
   "cell_type": "markdown",
   "metadata": {},
   "source": [
    "$$\\sum_{j=1}^{15} x1_{ij} + \\sum_{k=1}^{50} x2_{ik} = q_i,  \\forall i = 1,\\cdots,50$$"
   ]
  },
  {
   "cell_type": "code",
   "execution_count": 18,
   "metadata": {},
   "outputs": [],
   "source": [
    "# g) Constraint (9) the flow balance\n",
    "# no waste is left at any transfer station"
   ]
  },
  {
   "cell_type": "markdown",
   "metadata": {},
   "source": [
    "$$\\sum_{i=1}^{50} x2_{ik} = \\sum_{j=1}^{15} x3_{kj},  \\forall k = 1,\\cdots,50$$"
   ]
  },
  {
   "cell_type": "code",
   "execution_count": 20,
   "metadata": {},
   "outputs": [
    {
     "name": "stdout",
     "output_type": "stream",
     "text": [
      "Academic license - for non-commercial use only - expires 2021-01-19\r\n",
      "Gurobi Optimizer version 9.1.0 build v9.1.0rc0 (win64)\r\n",
      "Thread count: 6 physical cores, 12 logical processors, using up to 12 threads\r\n",
      "Optimize a model with 4151 rows, 4065 columns and 17015 nonzeros\r\n",
      "Model fingerprint: 0x8283a6a7\r\n",
      "Variable types: 4000 continuous, 65 integer (65 binary)\r\n",
      "Coefficient statistics:\r\n",
      "  Matrix range     [1e+00, 2e+03]\r\n",
      "  Objective range  [1e+00, 1e+04]\r\n",
      "  Bounds range     [0e+00, 0e+00]\r\n",
      "  RHS range        [5e+00, 2e+03]\r\n",
      "Found heuristic solution: objective 3979977.1191\r\n",
      "Presolve time: 0.02s\r\n",
      "Presolved: 4151 rows, 4065 columns, 17065 nonzeros\r\n",
      "Variable types: 4000 continuous, 65 integer (65 binary)\r\n",
      "\r\n",
      "Root relaxation: objective 7.651519e+05, 529 iterations, 0.02 seconds\r\n",
      "\r\n",
      "    Nodes    |    Current Node    |     Objective Bounds      |     Work\r\n",
      " Expl Unexpl |  Obj  Depth IntInf | Incumbent    BestBd   Gap | It/Node Time\r\n",
      "\r\n",
      "     0     0 765151.944    0   36 3979977.12 765151.944  80.8%     -    0s\r\n",
      "H    0     0                    1067618.4477 765151.944  28.3%     -    0s\r\n",
      "H    0     0                    875230.47702 765151.944  12.6%     -    0s\r\n",
      "     0     0 777307.936    0   32 875230.477 777307.936  11.2%     -    0s\r\n",
      "     0     0 783797.200    0   40 875230.477 783797.200  10.4%     -    0s\r\n",
      "H    0     0                    825728.85107 783797.200  5.08%     -    0s\r\n",
      "     0     0 792984.109    0   24 825728.851 792984.109  3.97%     -    0s\r\n",
      "     0     0 793137.374    0   24 825728.851 793137.374  3.95%     -    0s\r\n",
      "H    0     0                    809272.39374 799676.429  1.19%     -    0s\r\n",
      "H    0     0                    808642.75419 799676.429  1.11%     -    0s\r\n",
      "     0     0 800383.520    0   24 808642.754 800383.520  1.02%     -    0s\r\n",
      "     0     0 804488.976    0   24 808642.754 804488.976  0.51%     -    0s\r\n",
      "\r\n",
      "Cutting planes:\r\n",
      "  Gomory: 1\r\n",
      "  MIR: 47\r\n",
      "  Flow cover: 9\r\n",
      "  RLT: 1\r\n",
      "\r\n",
      "Explored 1 nodes (796 simplex iterations) in 0.34 seconds\r\n",
      "Thread count was 12 (of 12 available processors)\r\n",
      "\r\n",
      "Solution count 5: 808643 825729 875230 ... 3.97998e+06\r\n",
      "\r\n",
      "Optimal solution found (tolerance 1.00e-04)\r\n",
      "Best objective 8.086427541913e+05, best bound 8.086427541913e+05, gap 0.0000%\r\n",
      "\r\n",
      "User-callback calls 168, time in user-callback 0.00 sec\r\n"
     ]
    }
   ],
   "source": [
    "# h) Implement the model\n",
    "mod2 = Model(Gurobi.Optimizer);\n",
    "set_optimizer_attribute(mod2, \"MIPGap\", 0.0001);\n",
    "@variable(mod2, x1[1:n1, 1:m1] >= 0);\n",
    "@variable(mod2, x2[1:n1, 1:s1] >= 0);\n",
    "@variable(mod2, x3[1:s1, 1:m1] >= 0);\n",
    "@variable(mod2, y[1:s1], Bin);\n",
    "@variable(mod2, z[1:m1], Bin);\n",
    "\n",
    "# Objective function\n",
    "@objective(mod2, Min,\n",
    "    10000 * sum(y[k] for k in 1:s1) + # building station cost\n",
    "    1 * sum(d1[i, j] * x1[i, j] for i in 1:n1, j in 1:m1) +  # directly to landfills\n",
    "    1 * sum(d2[i, k] * x2[i, k] for i in 1:n1, k in 1:s1) +  # to station\n",
    "    0.5 * sum(d3[k, j] * x3[k, j] for k in 1:s1, j in 1:m1)  # station to landfills\n",
    "    );\n",
    "\n",
    "# Waste collection constraint\n",
    "@constraint(mod2, [i in 1:n1], \n",
    "    sum(x1[i,j] for j in 1:m1) + sum(x2[i,k] for k in 1:s1) == q[i]\n",
    "    );\n",
    "\n",
    "# Flow balance constraint\n",
    "@constraint(mod2, [k in 1:s1], \n",
    "    sum(x2[i,k] for i in 1:n1) == sum(x3[k,j] for j in 1:m1)\n",
    "    );\n",
    "\n",
    "# Upperbound of different transport legs\n",
    "@constraint(mod2, [i in 1:n1, j in 1:m1], x1[i,j] <= q[i]*z[j]);\n",
    "@constraint(mod2, [i in 1:n1, k in 1:s1], x2[i,k] <= q[i]*y[k]);\n",
    "@constraint(mod2, [k in 1:s1, j in 1:m1], x3[k,j] <= 2000*z[j]);\n",
    "\n",
    "# Transfer station capacity constraint\n",
    "@constraint(mod2, [k in 1:s1], sum(x2[i,k] for i in 1:n1) <= 2000);\n",
    "\n",
    "# The number of landfills constraint\n",
    "@constraint(mod2, sum(z[j] for j in 1:m1) <= 5);\n",
    "\n",
    "optimize!(mod2)"
   ]
  },
  {
   "cell_type": "code",
   "execution_count": 21,
   "metadata": {},
   "outputs": [
    {
     "data": {
      "text/plain": [
       "9-element Array{Int64,1}:\n",
       "  4\n",
       " 12\n",
       " 21\n",
       " 23\n",
       " 30\n",
       " 31\n",
       " 32\n",
       " 39\n",
       " 45"
      ]
     },
     "execution_count": 21,
     "metadata": {},
     "output_type": "execute_result"
    }
   ],
   "source": [
    "# Reporting the indexes of stations built\n",
    "# The number of stations built is 9\n",
    "y_opt2 = value.(y)\n",
    "index_y = findall(x->x==1, y_opt2)"
   ]
  },
  {
   "cell_type": "code",
   "execution_count": 22,
   "metadata": {},
   "outputs": [
    {
     "data": {
      "text/plain": [
       "5-element Array{Int64,1}:\n",
       "  3\n",
       "  4\n",
       "  7\n",
       " 13\n",
       " 14"
      ]
     },
     "execution_count": 22,
     "metadata": {},
     "output_type": "execute_result"
    }
   ],
   "source": [
    "# Reporting the index of landfills built\n",
    "z_opt2 = value.(z)\n",
    "index_z = findall(x->x==1, z_opt2)"
   ]
  },
  {
   "cell_type": "code",
   "execution_count": 23,
   "metadata": {},
   "outputs": [
    {
     "data": {
      "text/plain": [
       "0.35115546797472375"
      ]
     },
     "execution_count": 23,
     "metadata": {},
     "output_type": "execute_result"
    }
   ],
   "source": [
    "# The fraction of waste that gets compacted is 35.12%\n",
    "waste_total = sum(q[i] for i in 1:n1)\n",
    "compacted = sum(value.(x2[i,k]) for i in 1:n1, k in 1:s1)\n",
    "compacted_fraction = compacted / waste_total"
   ]
  },
  {
   "cell_type": "code",
   "execution_count": 24,
   "metadata": {},
   "outputs": [
    {
     "data": {
      "text/plain": [
       "876496.7565920389"
      ]
     },
     "execution_count": 24,
     "metadata": {},
     "output_type": "execute_result"
    }
   ],
   "source": [
    "# The total distance traveled is 876496.76 mile*ton\n",
    "# This is higher than the earlier solution(840487.52)\n",
    "dis_total = sum(d1[i, j] * value.(x1[i, j]) for i in 1:n1, j in 1:m1) +\n",
    "    sum(d2[i, k] * value.(x2[i, k]) for i in 1:n1, k in 1:s1) +\n",
    "    sum(d3[k, j] * value.(x3[k, j]) for k in 1:s1, j in 1:m1)"
   ]
  },
  {
   "cell_type": "code",
   "execution_count": 25,
   "metadata": {},
   "outputs": [
    {
     "data": {
      "text/plain": [
       "718642.7541913454"
      ]
     },
     "execution_count": 25,
     "metadata": {},
     "output_type": "execute_result"
    }
   ],
   "source": [
    "# The transportation cost is $718642.75\n",
    "# Since in the earlier solution all wast is uncompacted, \n",
    "# the unit transport cost is constant (1 per mile per ton).\n",
    "# The transport cost of the earlier solution equals to 840487.52 * 1\n",
    "# The new solution is lower than the earlier solution(840487.52)\n",
    "trans_cost = sum(d1[i, j] * value.(x1[i, j]) for i in 1:n1, j in 1:m1) +\n",
    "    sum(d2[i, k] * value.(x2[i, k]) for i in 1:n1, k in 1:s1) +\n",
    "    0.5 * sum(d3[k, j] * value.(x3[k, j]) for k in 1:s1, j in 1:m1)"
   ]
  },
  {
   "cell_type": "code",
   "execution_count": 26,
   "metadata": {},
   "outputs": [
    {
     "data": {
      "text/plain": [
       "808642.7541913455"
      ]
     },
     "execution_count": 26,
     "metadata": {},
     "output_type": "execute_result"
    }
   ],
   "source": [
    "# Reporting the total datily cost\n",
    "# The total cost(808642.75) is lower than the earlier solution(840487.52)\n",
    "obj_opt2 = objective_value(mod2)"
   ]
  }
 ],
 "metadata": {
  "kernelspec": {
   "display_name": "Julia 1.5.3",
   "language": "julia",
   "name": "julia-1.5"
  },
  "language_info": {
   "file_extension": ".jl",
   "mimetype": "application/julia",
   "name": "julia",
   "version": "1.5.3"
  }
 },
 "nbformat": 4,
 "nbformat_minor": 4
}
